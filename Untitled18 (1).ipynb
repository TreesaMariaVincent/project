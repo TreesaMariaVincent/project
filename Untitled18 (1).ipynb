{
 "cells": [
  {
   "cell_type": "code",
   "execution_count": 3,
   "id": "2cdddda8-9828-486d-8a4a-3c865696b2f6",
   "metadata": {},
   "outputs": [],
   "source": [
    "import pandas as pd\n",
    "import seaborn as sns\n",
    "import numpy as np"
   ]
  },
  {
   "cell_type": "code",
   "execution_count": 23,
   "id": "83d629b5-acc5-472e-ad20-8d968245cd46",
   "metadata": {},
   "outputs": [
    {
     "ename": "SyntaxError",
     "evalue": "invalid syntax (1865250987.py, line 5)",
     "output_type": "error",
     "traceback": [
      "\u001b[1;36m  Cell \u001b[1;32mIn[23], line 5\u001b[1;36m\u001b[0m\n\u001b[1;33m    for char , freq in\u001b[0m\n\u001b[1;37m                      ^\u001b[0m\n\u001b[1;31mSyntaxError\u001b[0m\u001b[1;31m:\u001b[0m invalid syntax\n"
     ]
    }
   ],
   "source": [
    "from collections import Counter\n",
    "def can_build_string(str1, str2):\n",
    "    count1= Counter(str1)\n",
    "    count2= Counter(str2)\n",
    "for char , freq in\n",
    "count2.items():\n",
    "    if count1[char] < freq:\n",
    "        return False\n",
    "    return True\n"
   ]
  },
  {
   "cell_type": "code",
   "execution_count": 11,
   "id": "88955164-0f12-455b-9899-164ead1a1bf2",
   "metadata": {},
   "outputs": [],
   "source": [
    "str1 = \"elephant\"\n",
    "str2 = \"pale\""
   ]
  },
  {
   "cell_type": "code",
   "execution_count": 13,
   "id": "294912ab-5f01-4b21-887c-21a3c71afb64",
   "metadata": {},
   "outputs": [
    {
     "ename": "NameError",
     "evalue": "name 'can_build_string' is not defined",
     "output_type": "error",
     "traceback": [
      "\u001b[1;31m---------------------------------------------------------------------------\u001b[0m",
      "\u001b[1;31mNameError\u001b[0m                                 Traceback (most recent call last)",
      "Cell \u001b[1;32mIn[13], line 1\u001b[0m\n\u001b[1;32m----> 1\u001b[0m \u001b[38;5;28;01mif\u001b[39;00m can_build_string(str1, str2):\n\u001b[0;32m      2\u001b[0m     \u001b[38;5;28mprint\u001b[39m(\u001b[38;5;124mf\u001b[39m\u001b[38;5;124m'\u001b[39m\u001b[38;5;124myes, \u001b[39m\u001b[38;5;124m\"\u001b[39m\u001b[38;5;132;01m{\u001b[39;00mstr2\u001b[38;5;132;01m}\u001b[39;00m\u001b[38;5;124m\"\u001b[39m\u001b[38;5;124m can be built from\u001b[39m\u001b[38;5;124m\"\u001b[39m\u001b[38;5;132;01m{\u001b[39;00mstr1\u001b[38;5;132;01m}\u001b[39;00m\u001b[38;5;124m\"\u001b[39m\u001b[38;5;124m.\u001b[39m\u001b[38;5;124m'\u001b[39m)\n\u001b[0;32m      3\u001b[0m \u001b[38;5;28;01melse\u001b[39;00m:\n",
      "\u001b[1;31mNameError\u001b[0m: name 'can_build_string' is not defined"
     ]
    }
   ],
   "source": [
    "if can_build_string(str1, str2):\n",
    "    print(f'yes, \"{str2}\" can be built from\"{str1}\".')\n",
    "else:\n",
    "    print(f'no, \"{str2}\" cannot be built from \"{str1}\" .')"
   ]
  },
  {
   "cell_type": "code",
   "execution_count": null,
   "id": "5ccaf4dc-86f7-4ee7-90c4-47a5946c972c",
   "metadata": {},
   "outputs": [],
   "source": [
    "###2nd question"
   ]
  },
  {
   "cell_type": "code",
   "execution_count": 25,
   "id": "87dc311a-4e99-491d-a636-360f2866f17f",
   "metadata": {},
   "outputs": [],
   "source": [
    "def calculate_power(*args):\n",
    "    if len(args) == 1:\n",
    "        return args[0] ** 2\n",
    "    elif len(args) == 2:\n",
    "        return args[0] ** args[1]\n",
    "    else:\n",
    "        return sum(args[: -1]) ** args[-1]"
   ]
  },
  {
   "cell_type": "code",
   "execution_count": 27,
   "id": "dbf507d9-6ea9-438e-abb9-deefc599925f",
   "metadata": {},
   "outputs": [
    {
     "name": "stdout",
     "output_type": "stream",
     "text": [
      "9\n"
     ]
    }
   ],
   "source": [
    "print(calculate_power(3))"
   ]
  },
  {
   "cell_type": "code",
   "execution_count": 29,
   "id": "ef06ea86-4936-4268-ac8a-2378caf3505e",
   "metadata": {},
   "outputs": [
    {
     "name": "stdout",
     "output_type": "stream",
     "text": [
      "8\n"
     ]
    }
   ],
   "source": [
    "print(calculate_power(2, 3))"
   ]
  },
  {
   "cell_type": "code",
   "execution_count": 31,
   "id": "aa1b92af-541a-4763-80a9-2f995ea2385b",
   "metadata": {},
   "outputs": [
    {
     "name": "stdout",
     "output_type": "stream",
     "text": [
      "1296\n"
     ]
    }
   ],
   "source": [
    "print(calculate_power(1, 2, 3, 4))"
   ]
  },
  {
   "cell_type": "code",
   "execution_count": null,
   "id": "ad0c3cd2-e180-4575-9bd5-ab298491b5b6",
   "metadata": {},
   "outputs": [],
   "source": [
    "###3 question"
   ]
  },
  {
   "cell_type": "code",
   "execution_count": 33,
   "id": "87848edd-4a01-4d91-b0ec-4f174ed41680",
   "metadata": {},
   "outputs": [],
   "source": [
    "class Employee:\n",
    "    def __init__(self, emp_id, name, department, salary):\n",
    "        \"\"\"initialize employee properties.\"\"\"\n",
    "        self.emp_id = emp_id\n",
    "        self.name = name\n",
    "        self.department = department\n",
    "        self.salary = salary\n",
    "        "
   ]
  },
  {
   "cell_type": "code",
   "execution_count": 35,
   "id": "835c4354-07c2-4eed-a484-2656ad646cea",
   "metadata": {},
   "outputs": [],
   "source": [
    "def display_info(self):\n",
    "    \"\"\"Display employee details.\"\"\"\n",
    "    print(f\"Employee ID: {self.emp_id}\")\n",
    "    print(f\"Name : {self.name}\")\n",
    "    print(f\"Department : {self.department}\")\n",
    "    print(f\"Salary : $ {self.salary}\")\n",
    "    print (\"-\" * 30)"
   ]
  },
  {
   "cell_type": "code",
   "execution_count": 41,
   "id": "267d751a-0e2d-4d13-8a4e-da089bc0b1f8",
   "metadata": {},
   "outputs": [
    {
     "ename": "AttributeError",
     "evalue": "'Employee' object has no attribute 'display_info'",
     "output_type": "error",
     "traceback": [
      "\u001b[1;31m---------------------------------------------------------------------------\u001b[0m",
      "\u001b[1;31mAttributeError\u001b[0m                            Traceback (most recent call last)",
      "Cell \u001b[1;32mIn[41], line 4\u001b[0m\n\u001b[0;32m      2\u001b[0m emp2 \u001b[38;5;241m=\u001b[39m Employee(\u001b[38;5;241m102\u001b[39m, \u001b[38;5;124m\"\u001b[39m\u001b[38;5;124mjames jacks\u001b[39m\u001b[38;5;124m\"\u001b[39m, \u001b[38;5;124m\"\u001b[39m\u001b[38;5;124mAccountant\u001b[39m\u001b[38;5;124m\"\u001b[39m, \u001b[38;5;241m70000\u001b[39m)\n\u001b[0;32m      3\u001b[0m emp3 \u001b[38;5;241m=\u001b[39m Employee(\u001b[38;5;241m103\u001b[39m, \u001b[38;5;124m\"\u001b[39m\u001b[38;5;124mromeo jos\u001b[39m\u001b[38;5;124m\"\u001b[39m, \u001b[38;5;124m\"\u001b[39m\u001b[38;5;124mIT\u001b[39m\u001b[38;5;124m\"\u001b[39m, \u001b[38;5;241m90000\u001b[39m)\n\u001b[1;32m----> 4\u001b[0m emp1\u001b[38;5;241m.\u001b[39mdisplay_info()\n\u001b[0;32m      5\u001b[0m emp2\u001b[38;5;241m.\u001b[39mdisplay_info()\n\u001b[0;32m      6\u001b[0m emp3\u001b[38;5;241m.\u001b[39mdisplay_info()\n",
      "\u001b[1;31mAttributeError\u001b[0m: 'Employee' object has no attribute 'display_info'"
     ]
    }
   ],
   "source": [
    "emp1 = Employee(101, \"Alice johnson\", \"HR\", 50000)\n",
    "emp2 = Employee(102, \"james jacks\", \"Accountant\", 70000)\n",
    "emp3 = Employee(103, \"romeo jos\", \"IT\", 90000)\n",
    "emp1.display_info()\n",
    "emp2.display_info()\n",
    "emp3.display_info()"
   ]
  },
  {
   "cell_type": "code",
   "execution_count": null,
   "id": "7b892f58-1db9-4ed1-b519-585f1c6e5193",
   "metadata": {},
   "outputs": [],
   "source": []
  },
  {
   "cell_type": "code",
   "execution_count": null,
   "id": "73e2f29e-3f55-4961-8938-171f80af6160",
   "metadata": {},
   "outputs": [],
   "source": []
  }
 ],
 "metadata": {
  "kernelspec": {
   "display_name": "Python [conda env:base] *",
   "language": "python",
   "name": "conda-base-py"
  },
  "language_info": {
   "codemirror_mode": {
    "name": "ipython",
    "version": 3
   },
   "file_extension": ".py",
   "mimetype": "text/x-python",
   "name": "python",
   "nbconvert_exporter": "python",
   "pygments_lexer": "ipython3",
   "version": "3.12.7"
  }
 },
 "nbformat": 4,
 "nbformat_minor": 5
}
